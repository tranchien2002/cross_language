{
 "cells": [
  {
   "cell_type": "code",
   "execution_count": 1,
   "metadata": {},
   "outputs": [],
   "source": [
    "# -*- coding: utf-8 -*-\n",
    "import database as mydb\n",
    "from sklearn.feature_extraction.text import CountVectorizer\n",
    "from Article import Article\n",
    "from sklearn.feature_extraction.text import TfidfTransformer\n",
    "from Translator import translate\n"
   ]
  },
  {
   "cell_type": "code",
   "execution_count": 18,
   "metadata": {},
   "outputs": [],
   "source": [
    "def counter(table, stop_words):\n",
    "    articles = mydb.execute_query(\"SELECT id, content, word FROM \" + table)\n",
    "    list_articles = [Article(item[0], item[1], item[2]) for item in articles]\n",
    "    contents = [item.word for item in list_articles]\n",
    "    cv = CountVectorizer( stop_words = stop_words)\n",
    "    return cv, cv.fit_transform(contents)\n",
    "\n",
    "def sort_coo(coo_matrix):\n",
    "    tuples = zip(coo_matrix.col, coo_matrix.data)\n",
    "    return sorted(tuples, key=lambda x: (x[1], x[0]), reverse=True)\n",
    "\n",
    "\n",
    "def extract_topn_from_vector(doc, table , topn=10, stop_words=\"english\"):\n",
    "    \"\"\"get the feature names and tf-idf score of top n items\"\"\"\n",
    "    cv, word_count_vector = counter(table, stop_words)\n",
    "    feature_names = cv.get_feature_names()\n",
    "    tfidf_transformer = TfidfTransformer(smooth_idf=True, use_idf=True)\n",
    "    tfidf_transformer.fit(word_count_vector)\n",
    "    tf_idf_vector = tfidf_transformer.transform(cv.transform([doc]))\n",
    "\n",
    "    # use only topn items from vector\n",
    "    sorted_items=sort_coo(tf_idf_vector.tocoo())[:topn]\n",
    "\n",
    "    score_vals = []\n",
    "    feature_vals = []\n",
    "\n",
    "    # word index and corresponding tf-idf score\n",
    "    for idx, score in sorted_items:\n",
    "        # keep track of feature name and its corresponding score\n",
    "        score_vals.append(round(score, 3))\n",
    "        feature_vals.append(feature_names[idx])\n",
    "\n",
    "    # create a tuples of feature,score\n",
    "    # results = zip(feature_vals,score_vals)\n",
    "    results = {}\n",
    "    for idx in range(len(feature_vals)):\n",
    "        results[feature_vals[idx]] = score_vals[idx]\n",
    "\n",
    "    return results"
   ]
  },
  {
   "cell_type": "code",
   "execution_count": null,
   "metadata": {},
   "outputs": [],
   "source": [
    "def update_keyword(table, id, new_keyword):\n",
    "    mydb.execute_query(\"UPDATE \" + table + \" SET keyword = \" + new_keyword + \" WHERE id = \" + id)"
   ]
  },
  {
   "cell_type": "code",
   "execution_count": 3,
   "metadata": {},
   "outputs": [],
   "source": [
    "articles = mydb.execute_query(\"SELECT id, content, word FROM english\")\n",
    "list_articles = [Article(item[0], item[1], item[2]) for item in articles]\n",
    "contents = [item.content for item in list_articles]\n",
    "articles1 = mydb.execute_query(\"SELECT id, content, word FROM vietnamese\")\n",
    "list_articles1 = [Article(item[0], item[1], item[2]) for item in articles1]\n",
    "contents1 = [item.word for item in list_articles1]\n"
   ]
  },
  {
   "cell_type": "code",
   "execution_count": 1,
   "metadata": {},
   "outputs": [
    {
     "ename": "NameError",
     "evalue": "name 'list_articles' is not defined",
     "output_type": "error",
     "traceback": [
      "\u001b[0;31m---------------------------------------------------------------------------\u001b[0m",
      "\u001b[0;31mNameError\u001b[0m                                 Traceback (most recent call last)",
      "\u001b[0;32m<ipython-input-1-6116b36f4603>\u001b[0m in \u001b[0;36m<module>\u001b[0;34m\u001b[0m\n\u001b[0;32m----> 1\u001b[0;31m \u001b[0;32mfor\u001b[0m \u001b[0ma\u001b[0m \u001b[0;32min\u001b[0m \u001b[0mlist_articles\u001b[0m\u001b[0;34m:\u001b[0m\u001b[0;34m\u001b[0m\u001b[0;34m\u001b[0m\u001b[0m\n\u001b[0m\u001b[1;32m      2\u001b[0m     \u001b[0mupdate_keyword\u001b[0m\u001b[0;34m(\u001b[0m\u001b[0;34m\"english\"\u001b[0m\u001b[0;34m,\u001b[0m \u001b[0ma\u001b[0m\u001b[0;34m.\u001b[0m\u001b[0mid\u001b[0m\u001b[0;34m,\u001b[0m \u001b[0mextract_topn_from_vector\u001b[0m\u001b[0;34m(\u001b[0m\u001b[0ma\u001b[0m\u001b[0;34m.\u001b[0m\u001b[0mcontent\u001b[0m\u001b[0;34m,\u001b[0m \u001b[0;34m\"english\"\u001b[0m\u001b[0;34m,\u001b[0m \u001b[0;36m10\u001b[0m\u001b[0;34m)\u001b[0m\u001b[0;34m)\u001b[0m\u001b[0;34m\u001b[0m\u001b[0;34m\u001b[0m\u001b[0m\n\u001b[1;32m      3\u001b[0m \u001b[0;32mfor\u001b[0m \u001b[0ma\u001b[0m \u001b[0;32min\u001b[0m \u001b[0mlist_articles1\u001b[0m\u001b[0;34m:\u001b[0m\u001b[0;34m\u001b[0m\u001b[0;34m\u001b[0m\u001b[0m\n\u001b[1;32m      4\u001b[0m     \u001b[0mupdate_keyword\u001b[0m\u001b[0;34m(\u001b[0m\u001b[0;34m\"vietnamese\"\u001b[0m\u001b[0;34m,\u001b[0m \u001b[0ma\u001b[0m\u001b[0;34m.\u001b[0m\u001b[0mid\u001b[0m\u001b[0;34m,\u001b[0m \u001b[0mextract_topn_from_vector\u001b[0m\u001b[0;34m(\u001b[0m\u001b[0ma\u001b[0m\u001b[0;34m.\u001b[0m\u001b[0mcontent\u001b[0m\u001b[0;34m,\u001b[0m \u001b[0;34m\"vietnamese\"\u001b[0m\u001b[0;34m,\u001b[0m \u001b[0;36m10\u001b[0m\u001b[0;34m)\u001b[0m\u001b[0;34m)\u001b[0m\u001b[0;34m\u001b[0m\u001b[0;34m\u001b[0m\u001b[0m\n",
      "\u001b[0;31mNameError\u001b[0m: name 'list_articles' is not defined"
     ]
    }
   ],
   "source": [
    "for a in list_articles:\n",
    "    update_keyword(\"english\", a.id, extract_topn_from_vector(a.content, \"english\", 10))\n",
    "for a in list_articles1:\n",
    "    update_keyword(\"vietnamese\", a.id, extract_topn_from_vector(a.content, \"vietnamese\", 10))"
   ]
  },
  {
   "cell_type": "code",
   "execution_count": 4,
   "metadata": {
    "scrolled": true
   },
   "outputs": [
    {
     "data": {
      "text/plain": [
       "{'watchlists': 0.201,\n",
       " 'concert': 0.198,\n",
       " 'technology': 0.18,\n",
       " 'security': 0.175,\n",
       " 'people': 0.169,\n",
       " 'stalkers': 0.158,\n",
       " 'watchlist': 0.151,\n",
       " 'clerk': 0.151,\n",
       " 'private': 0.151,\n",
       " 'face': 0.13}"
      ]
     },
     "execution_count": 4,
     "metadata": {},
     "output_type": "execute_result"
    }
   ],
   "source": [
    "extract_topn_from_vector(contents[12], \"english\", 10, stop_words= \"english\")"
   ]
  },
  {
   "cell_type": "code",
   "execution_count": 21,
   "metadata": {
    "scrolled": true
   },
   "outputs": [
    {
     "name": "stdout",
     "output_type": "stream",
     "text": [
      "Nữ danh_ca Taylor_Swift đã tổ_chức một buổi hòa_nhạc lại Rose_Bowl , California tháng 5 vừa_rồi . Những người tới dự buổi hòa_nhạc này được theo_dõi bởi một hệ_thống nhận_dạng khuôn_mặt tiên_tiến . Mục_tiêu của hệ_thống này là các stalker , những kẻ xấu chuyên bám theo và làm_phiền Taylor_Swift . Hệ_thống nhận_dạng được trang_bị tại các ki - ốt , nơi trình_chiếu những video nổi_bật của Swift trong các buổi tập . Bất_cứ ai ghé qua ki - ốt đều sẽ bị quét khuôn_mặt . Sau đó , dữ_liệu sẽ được chuyển về trung_tâm tại Nashville , Tennessee để so_sánh với dữ_liệu ảnh của những stalker mà Swift đã biết . Taylor_Swift sử_dụng công_nghệ nhận_dạng khuôn_mặt để xác_định kẻ xấu tại một buổi hòa_nhạc Từ trước tới nay , các nghệ_sĩ Mỹ không hề công_khai việc sử_dụng công_nghệ nhận_diện khuôn_mặt tại các buổi hòa_nhạc của họ . Tuy_nhiên , theo luật_pháp Mỹ hành_vi này là hợp_pháp bởi về mặt kỹ_thuật buổi hòa_nhạc là một sự_kiện riêng_tư mà ở đó ban tổ_chức có_thể buộc người tham_dự chịu bất_kỳ sự giám_sát nào . Biện_pháp bảo_vệ mà Swift sử_dụng có vẻ hơi cực_đoan nhưng đây không phải lần đầu_tiên công_nghệ nhận_dạng khuôn_mặt được sử_dụng để phát_hiện ra kẻ xấu . Tháng 4 vừa_rồi , cảnh_sát Trung_Quốc đã bắt_giữ một nghi phạm 31 tuổi trong số 60.000 người tham_gia một buổi hòa_nhạc tại Trung_tâm Thể_thao Quốc_tế Nanchang . Nghi phạm bị hệ_thống nhận_dạng của Sharp_Eyes phát_hiện khi tới xem hòa_nhạc dù đang bị truy_nã . Tại Mỹ , công_nghệ nhận_dạng khuôn_mặt còn đang được nghiên_cứu , áp_dụng cho những lĩnh_vực khác . Hãng Ticketmaster đang hướng tới việc thay_thế vé xem phim bằng khuôn_mặt của khách_hàng .\n"
     ]
    },
    {
     "data": {
      "text/plain": [
       "{'hòa_nhạc': 0.377,\n",
       " 'khuôn_mặt': 0.327,\n",
       " 'buổi': 0.327,\n",
       " 'nhận_dạng': 0.323,\n",
       " 'tại': 0.165,\n",
       " 'taylor_swift': 0.161,\n",
       " 'swift': 0.161,\n",
       " 'hệ_thống': 0.138,\n",
       " 'công_nghệ': 0.138,\n",
       " 'kẻ': 0.125}"
      ]
     },
     "execution_count": 21,
     "metadata": {},
     "output_type": "execute_result"
    }
   ],
   "source": [
    "print(contents1[5])\n",
    "extract_topn_from_vector(contents1[5], \"vietnamese\", 10)"
   ]
  },
  {
   "cell_type": "code",
   "execution_count": 4,
   "metadata": {},
   "outputs": [
    {
     "name": "stdout",
     "output_type": "stream",
     "text": [
      "Female singer_ca Taylor Swift organized a Rose Bowl concert, California in May. People who attend this concert are followed by a mold-first system. The purpose of this system is the stalkers, the bad guys are following and doing the _draw Taylor Swift. The system recognizes the page in the kiosks, which show Swift's floating videos in training sessions. Anyone who visits kiosks will be scanned. The data will then be transferred to Trung_tam in Nashville, Tennessee to match the data of the stalkers that Swift already knows. Taylor Swift uses the face-to-face technology to determine the bad guys at a concert - Photo 1. Until now, American artists did not take advantage of their public use of face recognition at their concerts. Although, according to US law, this is a legal because technically a concert is a private event where the organization can force the participant to be subject to any supervision. The measure guarantees that Swift uses it to be extremely sensitive, but this must not be the first time a face-to-face format is used to detect the bad guys. In April, China and China had arrested a 31-year-old suspect among the 60,000 people who attended a concert at Trung Tam_thao Quoc_te Nanchang. The suspect was discovered by Sharp Eyes' identity system when he went to see the concert even though he was being searched. In the US, face-to-face recognition is also being researched, applied to other fields. Ticketmaster is aiming to replace movie tickets with customers' faces.\n"
     ]
    }
   ],
   "source": [
    "print(translate(contents1[5]))"
   ]
  },
  {
   "cell_type": "code",
   "execution_count": null,
   "metadata": {},
   "outputs": [],
   "source": []
  },
  {
   "cell_type": "raw",
   "metadata": {},
   "source": []
  }
 ],
 "metadata": {
  "kernelspec": {
   "display_name": "Python 3",
   "language": "python",
   "name": "python3"
  },
  "language_info": {
   "codemirror_mode": {
    "name": "ipython",
    "version": 3
   },
   "file_extension": ".py",
   "mimetype": "text/x-python",
   "name": "python",
   "nbconvert_exporter": "python",
   "pygments_lexer": "ipython3",
   "version": "3.6.7"
  }
 },
 "nbformat": 4,
 "nbformat_minor": 2
}
